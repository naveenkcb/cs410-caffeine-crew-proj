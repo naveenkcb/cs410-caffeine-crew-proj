{
 "cells": [
  {
   "cell_type": "code",
   "execution_count": 1,
   "id": "d3b394bf",
   "metadata": {},
   "outputs": [],
   "source": [
    "import pandas as pd\n",
    "import numpy as np\n",
    "import matplotlib.pyplot as plt\n",
    "import seaborn as sns\n",
    "import nltk\n",
    "from nltk.corpus import stopwords\n",
    "import re\n",
    "from nltk.stem import PorterStemmer\n",
    "from sklearn.model_selection import train_test_split\n",
    "from sklearn.feature_extraction.text import TfidfVectorizer\n",
    "from sklearn.svm import SVC\n",
    "from sklearn.naive_bayes import MultinomialNB\n",
    "from sklearn.linear_model import LogisticRegression\n",
    "from sklearn.ensemble import RandomForestClassifier\n",
    "from sklearn.metrics import classification_report, precision_score, recall_score, accuracy_score\n",
    "%matplotlib inline"
   ]
  },
  {
   "cell_type": "code",
   "execution_count": 2,
   "id": "2e8b298a",
   "metadata": {},
   "outputs": [],
   "source": [
    "yelp = pd.read_csv(\"yelp_review_in_scope_dataset.csv\")"
   ]
  },
  {
   "cell_type": "code",
   "execution_count": 3,
   "id": "c6dffa32",
   "metadata": {},
   "outputs": [
    {
     "data": {
      "text/plain": [
       "(70242, 9)"
      ]
     },
     "execution_count": 3,
     "metadata": {},
     "output_type": "execute_result"
    }
   ],
   "source": [
    "yelp.shape"
   ]
  },
  {
   "cell_type": "code",
   "execution_count": 4,
   "id": "e46867f6",
   "metadata": {},
   "outputs": [
    {
     "data": {
      "text/html": [
       "<div>\n",
       "<style scoped>\n",
       "    .dataframe tbody tr th:only-of-type {\n",
       "        vertical-align: middle;\n",
       "    }\n",
       "\n",
       "    .dataframe tbody tr th {\n",
       "        vertical-align: top;\n",
       "    }\n",
       "\n",
       "    .dataframe thead th {\n",
       "        text-align: right;\n",
       "    }\n",
       "</style>\n",
       "<table border=\"1\" class=\"dataframe\">\n",
       "  <thead>\n",
       "    <tr style=\"text-align: right;\">\n",
       "      <th></th>\n",
       "      <th>review_id</th>\n",
       "      <th>user_id</th>\n",
       "      <th>business_id</th>\n",
       "      <th>stars</th>\n",
       "      <th>useful</th>\n",
       "      <th>funny</th>\n",
       "      <th>cool</th>\n",
       "      <th>text</th>\n",
       "      <th>date</th>\n",
       "    </tr>\n",
       "  </thead>\n",
       "  <tbody>\n",
       "    <tr>\n",
       "      <th>0</th>\n",
       "      <td>KU_O5udG6zpxOg-VcAEodg</td>\n",
       "      <td>mh_-eMZ6K5RLWhZyISBhwA</td>\n",
       "      <td>XQfwVwDr-v0ZS3_CbbE5Xw</td>\n",
       "      <td>3</td>\n",
       "      <td>0</td>\n",
       "      <td>0</td>\n",
       "      <td>0</td>\n",
       "      <td>If you decide to eat here, just be aware it is...</td>\n",
       "      <td>7/7/18 22:09</td>\n",
       "    </tr>\n",
       "    <tr>\n",
       "      <th>1</th>\n",
       "      <td>BiTunyQ73aT9WBnpR9DZGw</td>\n",
       "      <td>OyoGAe7OKpv6SyGZT5g77Q</td>\n",
       "      <td>7ATYjTIgM3jUlt4UM3IypQ</td>\n",
       "      <td>5</td>\n",
       "      <td>1</td>\n",
       "      <td>0</td>\n",
       "      <td>1</td>\n",
       "      <td>I've taken a lot of spin classes over the year...</td>\n",
       "      <td>1/3/12 15:28</td>\n",
       "    </tr>\n",
       "    <tr>\n",
       "      <th>2</th>\n",
       "      <td>saUsX_uimxRlCVr67Z4Jig</td>\n",
       "      <td>8g_iMtfSiwikVnbP2etR0A</td>\n",
       "      <td>YjUWPpI6HXG530lwP-fb2A</td>\n",
       "      <td>3</td>\n",
       "      <td>0</td>\n",
       "      <td>0</td>\n",
       "      <td>0</td>\n",
       "      <td>Family diner. Had the buffet. Eclectic assortm...</td>\n",
       "      <td>2/5/14 20:30</td>\n",
       "    </tr>\n",
       "    <tr>\n",
       "      <th>3</th>\n",
       "      <td>AqPFMleE6RsU23_auESxiA</td>\n",
       "      <td>_7bHUi9Uuf5__HHc_Q8guQ</td>\n",
       "      <td>kxX2SOes4o-D3ZQBkiMRfA</td>\n",
       "      <td>5</td>\n",
       "      <td>1</td>\n",
       "      <td>0</td>\n",
       "      <td>1</td>\n",
       "      <td>Wow!  Yummy, different,  delicious.   Our favo...</td>\n",
       "      <td>1/4/15 0:01</td>\n",
       "    </tr>\n",
       "    <tr>\n",
       "      <th>4</th>\n",
       "      <td>Sx8TMOWLNuJBWer-0pcmoA</td>\n",
       "      <td>bcjbaE6dDog4jkNY91ncLQ</td>\n",
       "      <td>e4Vwtrqf-wpJfwesgvdgxQ</td>\n",
       "      <td>4</td>\n",
       "      <td>1</td>\n",
       "      <td>0</td>\n",
       "      <td>1</td>\n",
       "      <td>Cute interior and owner (?) gave us tour of up...</td>\n",
       "      <td>1/14/17 20:54</td>\n",
       "    </tr>\n",
       "  </tbody>\n",
       "</table>\n",
       "</div>"
      ],
      "text/plain": [
       "                review_id                 user_id             business_id  \\\n",
       "0  KU_O5udG6zpxOg-VcAEodg  mh_-eMZ6K5RLWhZyISBhwA  XQfwVwDr-v0ZS3_CbbE5Xw   \n",
       "1  BiTunyQ73aT9WBnpR9DZGw  OyoGAe7OKpv6SyGZT5g77Q  7ATYjTIgM3jUlt4UM3IypQ   \n",
       "2  saUsX_uimxRlCVr67Z4Jig  8g_iMtfSiwikVnbP2etR0A  YjUWPpI6HXG530lwP-fb2A   \n",
       "3  AqPFMleE6RsU23_auESxiA  _7bHUi9Uuf5__HHc_Q8guQ  kxX2SOes4o-D3ZQBkiMRfA   \n",
       "4  Sx8TMOWLNuJBWer-0pcmoA  bcjbaE6dDog4jkNY91ncLQ  e4Vwtrqf-wpJfwesgvdgxQ   \n",
       "\n",
       "   stars  useful  funny  cool  \\\n",
       "0      3       0      0     0   \n",
       "1      5       1      0     1   \n",
       "2      3       0      0     0   \n",
       "3      5       1      0     1   \n",
       "4      4       1      0     1   \n",
       "\n",
       "                                                text           date  \n",
       "0  If you decide to eat here, just be aware it is...   7/7/18 22:09  \n",
       "1  I've taken a lot of spin classes over the year...   1/3/12 15:28  \n",
       "2  Family diner. Had the buffet. Eclectic assortm...   2/5/14 20:30  \n",
       "3  Wow!  Yummy, different,  delicious.   Our favo...    1/4/15 0:01  \n",
       "4  Cute interior and owner (?) gave us tour of up...  1/14/17 20:54  "
      ]
     },
     "execution_count": 4,
     "metadata": {},
     "output_type": "execute_result"
    }
   ],
   "source": [
    "yelp.head()"
   ]
  },
  {
   "cell_type": "code",
   "execution_count": 5,
   "id": "9ec5d1a0",
   "metadata": {},
   "outputs": [
    {
     "data": {
      "text/html": [
       "<div>\n",
       "<style scoped>\n",
       "    .dataframe tbody tr th:only-of-type {\n",
       "        vertical-align: middle;\n",
       "    }\n",
       "\n",
       "    .dataframe tbody tr th {\n",
       "        vertical-align: top;\n",
       "    }\n",
       "\n",
       "    .dataframe thead th {\n",
       "        text-align: right;\n",
       "    }\n",
       "</style>\n",
       "<table border=\"1\" class=\"dataframe\">\n",
       "  <thead>\n",
       "    <tr style=\"text-align: right;\">\n",
       "      <th></th>\n",
       "      <th>review_id</th>\n",
       "      <th>user_id</th>\n",
       "      <th>business_id</th>\n",
       "      <th>stars</th>\n",
       "      <th>useful</th>\n",
       "      <th>funny</th>\n",
       "      <th>cool</th>\n",
       "      <th>text</th>\n",
       "      <th>date</th>\n",
       "      <th>text_length</th>\n",
       "    </tr>\n",
       "  </thead>\n",
       "  <tbody>\n",
       "    <tr>\n",
       "      <th>0</th>\n",
       "      <td>KU_O5udG6zpxOg-VcAEodg</td>\n",
       "      <td>mh_-eMZ6K5RLWhZyISBhwA</td>\n",
       "      <td>XQfwVwDr-v0ZS3_CbbE5Xw</td>\n",
       "      <td>3</td>\n",
       "      <td>0</td>\n",
       "      <td>0</td>\n",
       "      <td>0</td>\n",
       "      <td>If you decide to eat here, just be aware it is...</td>\n",
       "      <td>7/7/18 22:09</td>\n",
       "      <td>513</td>\n",
       "    </tr>\n",
       "    <tr>\n",
       "      <th>1</th>\n",
       "      <td>BiTunyQ73aT9WBnpR9DZGw</td>\n",
       "      <td>OyoGAe7OKpv6SyGZT5g77Q</td>\n",
       "      <td>7ATYjTIgM3jUlt4UM3IypQ</td>\n",
       "      <td>5</td>\n",
       "      <td>1</td>\n",
       "      <td>0</td>\n",
       "      <td>1</td>\n",
       "      <td>I've taken a lot of spin classes over the year...</td>\n",
       "      <td>1/3/12 15:28</td>\n",
       "      <td>829</td>\n",
       "    </tr>\n",
       "    <tr>\n",
       "      <th>2</th>\n",
       "      <td>saUsX_uimxRlCVr67Z4Jig</td>\n",
       "      <td>8g_iMtfSiwikVnbP2etR0A</td>\n",
       "      <td>YjUWPpI6HXG530lwP-fb2A</td>\n",
       "      <td>3</td>\n",
       "      <td>0</td>\n",
       "      <td>0</td>\n",
       "      <td>0</td>\n",
       "      <td>Family diner. Had the buffet. Eclectic assortm...</td>\n",
       "      <td>2/5/14 20:30</td>\n",
       "      <td>339</td>\n",
       "    </tr>\n",
       "    <tr>\n",
       "      <th>3</th>\n",
       "      <td>AqPFMleE6RsU23_auESxiA</td>\n",
       "      <td>_7bHUi9Uuf5__HHc_Q8guQ</td>\n",
       "      <td>kxX2SOes4o-D3ZQBkiMRfA</td>\n",
       "      <td>5</td>\n",
       "      <td>1</td>\n",
       "      <td>0</td>\n",
       "      <td>1</td>\n",
       "      <td>Wow!  Yummy, different,  delicious.   Our favo...</td>\n",
       "      <td>1/4/15 0:01</td>\n",
       "      <td>243</td>\n",
       "    </tr>\n",
       "    <tr>\n",
       "      <th>4</th>\n",
       "      <td>Sx8TMOWLNuJBWer-0pcmoA</td>\n",
       "      <td>bcjbaE6dDog4jkNY91ncLQ</td>\n",
       "      <td>e4Vwtrqf-wpJfwesgvdgxQ</td>\n",
       "      <td>4</td>\n",
       "      <td>1</td>\n",
       "      <td>0</td>\n",
       "      <td>1</td>\n",
       "      <td>Cute interior and owner (?) gave us tour of up...</td>\n",
       "      <td>1/14/17 20:54</td>\n",
       "      <td>534</td>\n",
       "    </tr>\n",
       "  </tbody>\n",
       "</table>\n",
       "</div>"
      ],
      "text/plain": [
       "                review_id                 user_id             business_id  \\\n",
       "0  KU_O5udG6zpxOg-VcAEodg  mh_-eMZ6K5RLWhZyISBhwA  XQfwVwDr-v0ZS3_CbbE5Xw   \n",
       "1  BiTunyQ73aT9WBnpR9DZGw  OyoGAe7OKpv6SyGZT5g77Q  7ATYjTIgM3jUlt4UM3IypQ   \n",
       "2  saUsX_uimxRlCVr67Z4Jig  8g_iMtfSiwikVnbP2etR0A  YjUWPpI6HXG530lwP-fb2A   \n",
       "3  AqPFMleE6RsU23_auESxiA  _7bHUi9Uuf5__HHc_Q8guQ  kxX2SOes4o-D3ZQBkiMRfA   \n",
       "4  Sx8TMOWLNuJBWer-0pcmoA  bcjbaE6dDog4jkNY91ncLQ  e4Vwtrqf-wpJfwesgvdgxQ   \n",
       "\n",
       "   stars  useful  funny  cool  \\\n",
       "0      3       0      0     0   \n",
       "1      5       1      0     1   \n",
       "2      3       0      0     0   \n",
       "3      5       1      0     1   \n",
       "4      4       1      0     1   \n",
       "\n",
       "                                                text           date  \\\n",
       "0  If you decide to eat here, just be aware it is...   7/7/18 22:09   \n",
       "1  I've taken a lot of spin classes over the year...   1/3/12 15:28   \n",
       "2  Family diner. Had the buffet. Eclectic assortm...   2/5/14 20:30   \n",
       "3  Wow!  Yummy, different,  delicious.   Our favo...    1/4/15 0:01   \n",
       "4  Cute interior and owner (?) gave us tour of up...  1/14/17 20:54   \n",
       "\n",
       "   text_length  \n",
       "0          513  \n",
       "1          829  \n",
       "2          339  \n",
       "3          243  \n",
       "4          534  "
      ]
     },
     "execution_count": 5,
     "metadata": {},
     "output_type": "execute_result"
    }
   ],
   "source": [
    "yelp['text_length'] = yelp['text'].apply(len)\n",
    "yelp.head()\n"
   ]
  },
  {
   "cell_type": "markdown",
   "metadata": {},
   "source": [
    "Let’s visualise the data a little more by plotting some graphs with the Seabornlibrary.\n",
    "\n",
    "Seaborn’s FacetGrid allows us to create a grid of histograms placed side by side. We can use FacetGrid to see if there’s any relationship between our newly created text length feature and the stars rating."
   ]
  },
  {
   "cell_type": "code",
   "execution_count": 6,
   "id": "2d15fbf3",
   "metadata": {},
   "outputs": [
    {
     "data": {
      "text/plain": [
       "<seaborn.axisgrid.FacetGrid at 0x7fe2dfcfc700>"
      ]
     },
     "execution_count": 6,
     "metadata": {},
     "output_type": "execute_result"
    },
    {
     "data": {
      "image/png": "[encoded data removed]",
      "text/plain": [
       "<Figure size 1080x216 with 5 Axes>"
      ]
     },
     "metadata": {},
     "output_type": "display_data"
    }
   ],
   "source": [
    "sns.set_style('white')\n",
    "g = sns.FacetGrid(yelp, col = 'stars')\n",
    "g.map(plt.hist, 'text_length', bins=50)"
   ]
  },
  {
   "cell_type": "markdown",
   "metadata": {},
   "source": [
    "Seems like overall, the distribution of text length is similar across all five ratings. However, the number of text reviews seems to be skewed a lot higher towards the 4-star and 5-star ratings. This may cause some issues later on in the process."
   ]
  },
  {
   "cell_type": "markdown",
   "metadata": {},
   "source": [
    "Next, let’s create a box plot of the text length for each star rating."
   ]
  },
  {
   "cell_type": "code",
   "execution_count": 7,
   "id": "2214d593",
   "metadata": {},
   "outputs": [
    {
     "data": {
      "text/plain": [
       "<AxesSubplot:xlabel='stars', ylabel='text_length'>"
      ]
     },
     "execution_count": 7,
     "metadata": {},
     "output_type": "execute_result"
    },
    {
     "data": {
      "image/png": "[encoded data removed]",
      "text/plain": [
       "<Figure size 432x288 with 1 Axes>"
      ]
     },
     "metadata": {},
     "output_type": "display_data"
    }
   ],
   "source": [
    "sns.boxplot(x='stars', y = 'text_length', data = yelp)"
   ]
  },
  {
   "cell_type": "markdown",
   "metadata": {},
   "source": [
    "From the plot, looks like the 1-star and 2-star ratings have much longer text, but there are many outliers (which can be seen as points above the boxes). Because of this, maybe text length won’t be such a useful feature to consider after all."
   ]
  },
  {
   "cell_type": "code",
   "execution_count": 8,
   "id": "658b033e",
   "metadata": {},
   "outputs": [
    {
     "data": {
      "text/plain": [
       "<AxesSubplot:xlabel='stars', ylabel='count'>"
      ]
     },
     "execution_count": 8,
     "metadata": {},
     "output_type": "execute_result"
    },
    {
     "data": {
      "image/png": "[encoded data removed]",
      "text/plain": [
       "<Figure size 432x288 with 1 Axes>"
      ]
     },
     "metadata": {},
     "output_type": "display_data"
    }
   ],
   "source": [
    "sns.countplot(x='stars', data=yelp)"
   ]
  },
  {
   "cell_type": "markdown",
   "metadata": {},
   "source": [
    "Let’s group the data by the star rating, and see if we can find a correlation between features such as cool, useful, and funny. We can use the .corr()method from Pandas to find any correlations in the dataframe."
   ]
  },
  {
   "cell_type": "code",
   "execution_count": 9,
   "id": "c2915ed6",
   "metadata": {},
   "outputs": [
    {
     "data": {
      "text/html": [
       "<div>\n",
       "<style scoped>\n",
       "    .dataframe tbody tr th:only-of-type {\n",
       "        vertical-align: middle;\n",
       "    }\n",
       "\n",
       "    .dataframe tbody tr th {\n",
       "        vertical-align: top;\n",
       "    }\n",
       "\n",
       "    .dataframe thead th {\n",
       "        text-align: right;\n",
       "    }\n",
       "</style>\n",
       "<table border=\"1\" class=\"dataframe\">\n",
       "  <thead>\n",
       "    <tr style=\"text-align: right;\">\n",
       "      <th></th>\n",
       "      <th>useful</th>\n",
       "      <th>funny</th>\n",
       "      <th>cool</th>\n",
       "      <th>text_length</th>\n",
       "    </tr>\n",
       "    <tr>\n",
       "      <th>stars</th>\n",
       "      <th></th>\n",
       "      <th></th>\n",
       "      <th></th>\n",
       "      <th></th>\n",
       "    </tr>\n",
       "  </thead>\n",
       "  <tbody>\n",
       "    <tr>\n",
       "      <th>1</th>\n",
       "      <td>1.388424</td>\n",
       "      <td>0.432715</td>\n",
       "      <td>0.142932</td>\n",
       "      <td>676.857199</td>\n",
       "    </tr>\n",
       "    <tr>\n",
       "      <th>2</th>\n",
       "      <td>1.135860</td>\n",
       "      <td>0.370754</td>\n",
       "      <td>0.221845</td>\n",
       "      <td>678.713264</td>\n",
       "    </tr>\n",
       "    <tr>\n",
       "      <th>3</th>\n",
       "      <td>0.829608</td>\n",
       "      <td>0.289804</td>\n",
       "      <td>0.303616</td>\n",
       "      <td>644.218232</td>\n",
       "    </tr>\n",
       "    <tr>\n",
       "      <th>4</th>\n",
       "      <td>0.843110</td>\n",
       "      <td>0.250812</td>\n",
       "      <td>0.452368</td>\n",
       "      <td>561.694168</td>\n",
       "    </tr>\n",
       "    <tr>\n",
       "      <th>5</th>\n",
       "      <td>0.772719</td>\n",
       "      <td>0.185342</td>\n",
       "      <td>0.370620</td>\n",
       "      <td>460.766718</td>\n",
       "    </tr>\n",
       "  </tbody>\n",
       "</table>\n",
       "</div>"
      ],
      "text/plain": [
       "         useful     funny      cool  text_length\n",
       "stars                                           \n",
       "1      1.388424  0.432715  0.142932   676.857199\n",
       "2      1.135860  0.370754  0.221845   678.713264\n",
       "3      0.829608  0.289804  0.303616   644.218232\n",
       "4      0.843110  0.250812  0.452368   561.694168\n",
       "5      0.772719  0.185342  0.370620   460.766718"
      ]
     },
     "execution_count": 9,
     "metadata": {},
     "output_type": "execute_result"
    }
   ],
   "source": [
    "stars = yelp.groupby('stars').mean(numeric_only=True)\n",
    "stars"
   ]
  },
  {
   "cell_type": "code",
   "execution_count": 10,
   "id": "91dcd3cb",
   "metadata": {},
   "outputs": [
    {
     "data": {
      "text/html": [
       "<div>\n",
       "<style scoped>\n",
       "    .dataframe tbody tr th:only-of-type {\n",
       "        vertical-align: middle;\n",
       "    }\n",
       "\n",
       "    .dataframe tbody tr th {\n",
       "        vertical-align: top;\n",
       "    }\n",
       "\n",
       "    .dataframe thead th {\n",
       "        text-align: right;\n",
       "    }\n",
       "</style>\n",
       "<table border=\"1\" class=\"dataframe\">\n",
       "  <thead>\n",
       "    <tr style=\"text-align: right;\">\n",
       "      <th></th>\n",
       "      <th>useful</th>\n",
       "      <th>funny</th>\n",
       "      <th>cool</th>\n",
       "      <th>text_length</th>\n",
       "    </tr>\n",
       "  </thead>\n",
       "  <tbody>\n",
       "    <tr>\n",
       "      <th>useful</th>\n",
       "      <td>1.000000</td>\n",
       "      <td>0.946962</td>\n",
       "      <td>-0.882277</td>\n",
       "      <td>0.724350</td>\n",
       "    </tr>\n",
       "    <tr>\n",
       "      <th>funny</th>\n",
       "      <td>0.946962</td>\n",
       "      <td>1.000000</td>\n",
       "      <td>-0.884825</td>\n",
       "      <td>0.906916</td>\n",
       "    </tr>\n",
       "    <tr>\n",
       "      <th>cool</th>\n",
       "      <td>-0.882277</td>\n",
       "      <td>-0.884825</td>\n",
       "      <td>1.000000</td>\n",
       "      <td>-0.743605</td>\n",
       "    </tr>\n",
       "    <tr>\n",
       "      <th>text_length</th>\n",
       "      <td>0.724350</td>\n",
       "      <td>0.906916</td>\n",
       "      <td>-0.743605</td>\n",
       "      <td>1.000000</td>\n",
       "    </tr>\n",
       "  </tbody>\n",
       "</table>\n",
       "</div>"
      ],
      "text/plain": [
       "               useful     funny      cool  text_length\n",
       "useful       1.000000  0.946962 -0.882277     0.724350\n",
       "funny        0.946962  1.000000 -0.884825     0.906916\n",
       "cool        -0.882277 -0.884825  1.000000    -0.743605\n",
       "text_length  0.724350  0.906916 -0.743605     1.000000"
      ]
     },
     "execution_count": 10,
     "metadata": {},
     "output_type": "execute_result"
    }
   ],
   "source": [
    "stars.corr()"
   ]
  },
  {
   "cell_type": "markdown",
   "metadata": {},
   "source": [
    "To visualise these correlations, we can use Seaborn’s heatmap:"
   ]
  },
  {
   "cell_type": "code",
   "execution_count": 11,
   "id": "8eb6d83d",
   "metadata": {},
   "outputs": [
    {
     "data": {
      "text/plain": [
       "<AxesSubplot:>"
      ]
     },
     "execution_count": 11,
     "metadata": {},
     "output_type": "execute_result"
    },
    {
     "data": {
      "image/png": "[encoded data removed]",
      "text/plain": [
       "<Figure size 432x288 with 2 Axes>"
      ]
     },
     "metadata": {},
     "output_type": "display_data"
    }
   ],
   "source": [
    "sns.heatmap(stars.corr(),cmap='coolwarm', annot=True)"
   ]
  },
  {
   "cell_type": "markdown",
   "metadata": {},
   "source": [
    "Looking at the map, funny is strongly correlated with useful, and usefulseems strongly correlated with text length. We can also see a negative correlation between cool and the other three features."
   ]
  },
  {
   "cell_type": "markdown",
   "metadata": {},
   "source": [
    "<h1>Data Preprocessing</h1>\n",
    "\n",
    "Data preprocessing is a crucial step which involves cleaning, transforming, and preparing raw textual data for analysis. We used a range of NLP techniques (as mentioned below) to prepare data that is suitable for the NLP algorithm to extract meaningful information.\n",
    "\n",
    "Text Cleaning: We cleaned the data by removing irrelevant information, such as special characters and punctuation. We used regex match to perform this task.\n",
    "\n",
    "Lower Casing: We converted the text to lowercase to ensure consistency. \n",
    "\n",
    "Tokenization: We performed the tokenization of the review. It is the process of breaking down text into individual units or words. We used the NLTK (Natural Language Toolkit) library in python for performing tokenization of the text review.\n",
    "\n",
    "Stop Words Removal: Stop word removal is an important text preprocessing step that involves identifying and removing common or non-content words from the text data. These words (such as “the,” “and,”, “is”, \"a\" “an”) are often considered to have little or no meaning and contribute to noise in the data."
   ]
  },
  {
   "cell_type": "code",
   "execution_count": 12,
   "id": "88855a53",
   "metadata": {},
   "outputs": [],
   "source": [
    "def preprocess_text(text):\n",
    "    text = re.sub(r'[^a-zA-Z\\s]', '', text)\n",
    "    text = text.lower()\n",
    "    tokens = nltk.word_tokenize(text)\n",
    "    tokens = [word for word in tokens if word not in set(stopwords.words('english'))]\n",
    "\n",
    "    # Apply Porter Stemmer\n",
    "    stemmer = PorterStemmer()\n",
    "    stemmed_tokens = [stemmer.stem(word) for word in tokens]\n",
    "\n",
    "    preprocessed_text = ' '.join(stemmed_tokens)\n",
    "    return preprocessed_text"
   ]
  },
  {
   "cell_type": "markdown",
   "metadata": {},
   "source": [
    "<h1>Model building for Classification and Evaluation </h1>\n",
    "\n"
   ]
  },
  {
   "cell_type": "markdown",
   "metadata": {},
   "source": [
    "\n",
    "<b>Feature Extraction: </b>\n",
    "Feature extraction is an essential step in natural language processing (NLP) tasks, as it transforms raw textual data into a numerical representation that can be further processed by a classifier effectively. We used one of the most powerful feature extraction techniques, Term Frequency-Inverse Document Frequency (TF-IDF). We have utilized TF-IDF by importing TfidfVectorizer from scikit-learn library to vectorize the review text.\n",
    "\n",
    "<b>Building and Training Model: </b>\n",
    "Next we wanted to create a predictive mode model that can categorize the data points into predefined classes. For simplicity, we filtered the dataset to select the first 3000 reviews that had ratings of 1 or 5. Then we used 80% as training data and 20% as test data.We used the “text” feature for training and the “stars” feature as a label from our training dataset.\n",
    "Next, we built a classifier model using four below machine learning algorithms and trained the model with the training dataset. Using this trained model, we were able to predict the star ratings of 1 or 5 for the review from the test dataset.\n",
    "\n",
    "<b>Model Evaluation: </b>\n",
    "After that We used Precision and Recall as the evaluation metric to measure our rating prediction performance. We compare our prediction with the star ratings to determine the correctness of our prediction.\n",
    "\n",
    "<b>Classifier Evaluation with Visualization: </b>\n",
    "Then We plotted a Bar chart to compare Accuracy, Precision and Recall of every classifier.\n",
    "\n",
    "<b>Prediction with Unseen Review: </b>\n",
    "Finally We have used two new unseen Yelp reviews to predict the star ratings using every classifier to understand its behavior."
   ]
  },
  {
   "cell_type": "code",
   "execution_count": 13,
   "id": "9ffd5cdb",
   "metadata": {},
   "outputs": [
    {
     "name": "stdout",
     "output_type": "stream",
     "text": [
      "Number of total samples: 3000\n",
      "\n",
      "Support Vector Classifier Classifier (Based on Reviews):\n",
      "Accuracy: 0.95\n",
      "Precision: 0.95\n",
      "Recall: 0.95\n",
      "Classification Report:\n",
      "               precision    recall  f1-score   support\n",
      "\n",
      "           1       0.94      0.78      0.85       104\n",
      "           5       0.96      0.99      0.97       496\n",
      "\n",
      "    accuracy                           0.95       600\n",
      "   macro avg       0.95      0.88      0.91       600\n",
      "weighted avg       0.95      0.95      0.95       600\n",
      "\n",
      "\n",
      "\n",
      "Multinomial Naive Bayes Classifier (Based on Reviews):\n",
      "Accuracy: 0.86\n",
      "Precision: 0.87\n",
      "Recall: 0.86\n",
      "Classification Report:\n",
      "               precision    recall  f1-score   support\n",
      "\n",
      "           1       0.95      0.18      0.31       104\n",
      "           5       0.85      1.00      0.92       496\n",
      "\n",
      "    accuracy                           0.86       600\n",
      "   macro avg       0.90      0.59      0.61       600\n",
      "weighted avg       0.87      0.86      0.81       600\n",
      "\n",
      "\n",
      "\n",
      "Logistic Regression Classifier (Based on Reviews):\n",
      "Accuracy: 0.92\n",
      "Precision: 0.92\n",
      "Recall: 0.92\n",
      "Classification Report:\n",
      "               precision    recall  f1-score   support\n",
      "\n",
      "           1       0.95      0.57      0.71       104\n",
      "           5       0.92      0.99      0.95       496\n",
      "\n",
      "    accuracy                           0.92       600\n",
      "   macro avg       0.93      0.78      0.83       600\n",
      "weighted avg       0.92      0.92      0.91       600\n",
      "\n",
      "\n",
      "\n",
      "Random Forest Classifier (Based on Reviews):\n",
      "Accuracy: 0.92\n",
      "Precision: 0.92\n",
      "Recall: 0.92\n",
      "Classification Report:\n",
      "               precision    recall  f1-score   support\n",
      "\n",
      "           1       0.96      0.53      0.68       104\n",
      "           5       0.91      1.00      0.95       496\n",
      "\n",
      "    accuracy                           0.92       600\n",
      "   macro avg       0.94      0.76      0.82       600\n",
      "weighted avg       0.92      0.92      0.90       600\n",
      "\n",
      "\n",
      "\n"
     ]
    },
    {
     "data": {
      "image/png": "[encoded data removed]",
      "text/plain": [
       "<Figure size 864x1296 with 3 Axes>"
      ]
     },
     "metadata": {},
     "output_type": "display_data"
    },
    {
     "name": "stdout",
     "output_type": "stream",
     "text": [
      "Support Vector Classifier Classifier Predictions (Based on Reviews):\n",
      "\n",
      "Review:\n",
      " Horrible,  they have a scary mascot that scared my grandson and I asked him twice and my waitress for him not to come to our table.  Did he listen NO,kept coming back! Also served  a drink with a big crack! We will never return\n",
      "\n",
      "Predicted Star Rating: 1\n",
      "\n",
      "Actual Star Rating: 1\n",
      "\n",
      "Review:\n",
      " Update after initial review:  ordered again last night using the yelp eat24 app. Food was ready within 10 minutes of placing the order. I opted for pickup since I was on my way home. The app did not give them my correct phone # and speaking to the great staff at the reception desk they told me sometimes yelp gets the addresses wrong for delivery so my advice is to type your phone # and address (if using delivery) into the comments box just so you get your food as fast as they intend to get it to you. \n",
      "\n",
      "This is the best place for sushi in the area. We have frequented other sushi places and this one by far stands above the rest. Was happy to see Saturday night was very busy for them, and my takeout was still ready in under 10 minutes!!\n",
      "\n",
      "Predicted Star Rating: 5\n",
      "\n",
      "Actual Star Rating: 5\n",
      "\n",
      "\n",
      "\n",
      "Multinomial Naive Bayes Classifier Predictions (Based on Reviews):\n",
      "\n",
      "Review:\n",
      " Horrible,  they have a scary mascot that scared my grandson and I asked him twice and my waitress for him not to come to our table.  Did he listen NO,kept coming back! Also served  a drink with a big crack! We will never return\n",
      "\n",
      "Predicted Star Rating: 5\n",
      "\n",
      "Actual Star Rating: 1\n",
      "\n",
      "Review:\n",
      " Update after initial review:  ordered again last night using the yelp eat24 app. Food was ready within 10 minutes of placing the order. I opted for pickup since I was on my way home. The app did not give them my correct phone # and speaking to the great staff at the reception desk they told me sometimes yelp gets the addresses wrong for delivery so my advice is to type your phone # and address (if using delivery) into the comments box just so you get your food as fast as they intend to get it to you. \n",
      "\n",
      "This is the best place for sushi in the area. We have frequented other sushi places and this one by far stands above the rest. Was happy to see Saturday night was very busy for them, and my takeout was still ready in under 10 minutes!!\n",
      "\n",
      "Predicted Star Rating: 5\n",
      "\n",
      "Actual Star Rating: 5\n",
      "\n",
      "\n",
      "\n",
      "Logistic Regression Classifier Predictions (Based on Reviews):\n",
      "\n",
      "Review:\n",
      " Horrible,  they have a scary mascot that scared my grandson and I asked him twice and my waitress for him not to come to our table.  Did he listen NO,kept coming back! Also served  a drink with a big crack! We will never return\n",
      "\n",
      "Predicted Star Rating: 1\n",
      "\n",
      "Actual Star Rating: 1\n",
      "\n",
      "Review:\n",
      " Update after initial review:  ordered again last night using the yelp eat24 app. Food was ready within 10 minutes of placing the order. I opted for pickup since I was on my way home. The app did not give them my correct phone # and speaking to the great staff at the reception desk they told me sometimes yelp gets the addresses wrong for delivery so my advice is to type your phone # and address (if using delivery) into the comments box just so you get your food as fast as they intend to get it to you. \n",
      "\n",
      "This is the best place for sushi in the area. We have frequented other sushi places and this one by far stands above the rest. Was happy to see Saturday night was very busy for them, and my takeout was still ready in under 10 minutes!!\n",
      "\n",
      "Predicted Star Rating: 5\n",
      "\n",
      "Actual Star Rating: 5\n",
      "\n",
      "\n",
      "\n",
      "Random Forest Classifier Predictions (Based on Reviews):\n",
      "\n",
      "Review:\n",
      " Horrible,  they have a scary mascot that scared my grandson and I asked him twice and my waitress for him not to come to our table.  Did he listen NO,kept coming back! Also served  a drink with a big crack! We will never return\n",
      "\n",
      "Predicted Star Rating: 1\n",
      "\n",
      "Actual Star Rating: 1\n",
      "\n",
      "Review:\n",
      " Update after initial review:  ordered again last night using the yelp eat24 app. Food was ready within 10 minutes of placing the order. I opted for pickup since I was on my way home. The app did not give them my correct phone # and speaking to the great staff at the reception desk they told me sometimes yelp gets the addresses wrong for delivery so my advice is to type your phone # and address (if using delivery) into the comments box just so you get your food as fast as they intend to get it to you. \n",
      "\n",
      "This is the best place for sushi in the area. We have frequented other sushi places and this one by far stands above the rest. Was happy to see Saturday night was very busy for them, and my takeout was still ready in under 10 minutes!!\n",
      "\n",
      "Predicted Star Rating: 5\n",
      "\n",
      "Actual Star Rating: 5\n",
      "\n",
      "\n",
      "\n"
     ]
    }
   ],
   "source": [
    "# Take first 3000 rows\n",
    "yelp_class = yelp[(yelp['stars'] == 1) | (yelp['stars'] == 5)]\n",
    "X = yelp_class['text'][:3000] \n",
    "y = yelp_class['stars'][:3000]\n",
    "X = X.apply(preprocess_text)\n",
    "print(f\"Number of total samples: {len(X)}\\n\")\n",
    "\n",
    "# Vectorize the text data using TF-IDF\n",
    "tfidf_vectorizer = TfidfVectorizer(max_features=5000)\n",
    "X = tfidf_vectorizer.fit_transform(X)\n",
    "\n",
    "# Split the data into training and test sets\n",
    "X_train, X_test, y_train, y_test = train_test_split(X, y, test_size=0.2, random_state=42)\n",
    "\n",
    "# Define a list of classifiers\n",
    "classifiers = [\n",
    "    ('Support Vector Classifier', SVC(kernel='linear', C=1)),\n",
    "    ('Multinomial Naive Bayes', MultinomialNB()),\n",
    "    ('Logistic Regression', LogisticRegression(max_iter=1000)),\n",
    "    ('Random Forest', RandomForestClassifier())\n",
    "]\n",
    "\n",
    "# Initialize lists to store metrics\n",
    "precision_scores = []\n",
    "recall_scores = []\n",
    "accuracy_scores = []\n",
    "\n",
    "# Train and evaluate each classifier\n",
    "for name, clf in classifiers:\n",
    "    clf.fit(X_train, y_train)\n",
    "    y_pred = clf.predict(X_test)\n",
    "\n",
    "    precision = precision_score(y_test, y_pred, average='weighted')\n",
    "    recall = recall_score(y_test, y_pred, average='weighted')\n",
    "    accuracy = accuracy_score(y_test, y_pred)\n",
    "    precision_scores.append(precision)\n",
    "    recall_scores.append(recall)\n",
    "    accuracy_scores.append(accuracy)\n",
    "\n",
    "    print(f\"{name} Classifier (Based on Reviews):\")\n",
    "    print(f\"Accuracy: {accuracy:.2f}\")\n",
    "    print(f\"Precision: {precision:.2f}\")\n",
    "    print(f\"Recall: {recall:.2f}\")\n",
    "    print(\"Classification Report:\\n\", classification_report(y_test, y_pred))\n",
    "    print(\"\\n\")\n",
    "\n",
    "# Plot metrics in a bar chart\n",
    "labels = [classifier[0] for classifier in classifiers]\n",
    "metrics = ['Precision', 'Recall', 'Accuracy']\n",
    "\n",
    "plt.figure(figsize=(12, 18))\n",
    "\n",
    "for i, metric in enumerate(metrics, 1):\n",
    "    plt.subplot(3, 1, i)\n",
    "    plt.bar(labels, [precision_scores[j] if metric == 'Precision' else recall_scores[j] if metric == 'Recall' else accuracy_scores[j] for j in range(len(classifiers))], color=['blue', 'green', 'red', 'purple', 'orange'])\n",
    "    plt.title(f'{metric} Comparison')\n",
    "    plt.xlabel('Classifier')\n",
    "    plt.ylabel(metric)\n",
    "\n",
    "plt.tight_layout()\n",
    "plt.show()\n",
    "    \n",
    "# Example unseen review texts for classification, First 3000 rows were already used for training and testing\n",
    "new_reviews = yelp_class.iloc[3008:3010][\"text\"].to_numpy()\n",
    "actual_star_ratings = yelp_class.iloc[3008:3010][\"stars\"].to_numpy()\n",
    "\n",
    "# Preprocess the new reviews\n",
    "new_reviews_processed = [preprocess_text(review) for review in new_reviews]\n",
    "\n",
    "# Vectorize the new reviews using the same TF-IDF vectorizer\n",
    "new_reviews_tfidf = tfidf_vectorizer.transform(new_reviews_processed)\n",
    "\n",
    "# Predict the star ratings of the new reviews using each classifier based on 'reviews'\n",
    "for name, clf in classifiers:\n",
    "    star_ratings = clf.predict(new_reviews_tfidf)\n",
    "    print(f\"{name} Classifier Predictions (Based on Reviews):\\n\")\n",
    "    for review, predicted_rating, actual_rating  in zip(new_reviews, star_ratings, actual_star_ratings):\n",
    "        print(f\"Review:\\n {review}\\n\")\n",
    "        print(f\"Predicted Star Rating: {predicted_rating}\\n\")\n",
    "        print(f\"Actual Star Rating: {actual_rating}\\n\")\n",
    "    print(\"\\n\")"
   ]
  },
  {
   "cell_type": "markdown",
   "metadata": {},
   "source": [
    "<h1>Conclusion </h1>\n",
    "\n",
    "We found that Support Vector Classification (SVC) has a maximum accuracy of 95%.\n",
    "\n",
    "With the prediction model, we were able to predict star ratings of the unseen review with accuracy up to 90%. Any business trying to understand the customer sentiments based on the star ratings for the given reviews, they will be able to use this tool with higher accuracy. It can help the business focus on the reasons causing the negative reviews and focus on the priorities on getting those negative experiences limited. Additionally they can further focus on engaging the customers with targeted promotional campaigns who give positive reviews."
   ]
  },
  {
   "cell_type": "code",
   "execution_count": null,
   "id": "9e3b0da4",
   "metadata": {},
   "outputs": [],
   "source": []
  }
 ],
 "metadata": {
  "kernelspec": {
   "display_name": "Python 3 (ipykernel)",
   "language": "python",
   "name": "python3"
  },
  "language_info": {
   "codemirror_mode": {
    "name": "ipython",
    "version": 3
   },
   "file_extension": ".py",
   "mimetype": "text/x-python",
   "name": "python",
   "nbconvert_exporter": "python",
   "pygments_lexer": "ipython3",
   "version": "3.8.5"
  }
 },
 "nbformat": 4,
 "nbformat_minor": 5
}
